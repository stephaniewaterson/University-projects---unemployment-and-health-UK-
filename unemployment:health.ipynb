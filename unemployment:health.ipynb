{
 "cells": [
  {
   "cell_type": "code",
   "execution_count": null,
   "id": "6f5d7906-a179-4fb0-9094-b355c88ceeb0",
   "metadata": {},
   "outputs": [],
   "source": []
  },
  {
   "cell_type": "code",
   "execution_count": 1,
   "id": "349340f9-0e7d-42fe-91fe-e74e2a0e8265",
   "metadata": {},
   "outputs": [],
   "source": [
    "import matplotlib.pyplot as plt\n",
    "import matplotlib as mpl\n",
    "import numpy as np\n",
    "import geopandas as gpd\n",
    "import pandas as pd\n",
    "import os\n",
    "import urllib\n",
    "import zipfile\n",
    "import re\n",
    "from descartes import PolygonPatch\n",
    "from pysal.model import mgwr\n",
    "import pysal.lib\n",
    "import libpysal as ps\n",
    "from libpysal.weights.contiguity import Queen\n",
    "from patsy import dmatrices\n",
    "import statsmodels.api as sm\n",
    "from statsmodels.stats.outliers_influence import variance_inflation_factor\n",
    "# conda install mgwr\n",
    "from mgwr.gwr import GWR, MGWR\n",
    "from mgwr.sel_bw import Sel_BW\n",
    "from mgwr.utils import shift_colormap, truncate_colormap\n",
    "import warnings\n",
    "#warnings.filterwarnings(\"ignore\")"
   ]
  },
  {
   "cell_type": "code",
   "execution_count": 2,
   "id": "a7a609c7-a81b-4c66-9283-5c576852099e",
   "metadata": {},
   "outputs": [],
   "source": [
    "from pysal.model import spreg"
   ]
  },
  {
   "cell_type": "code",
   "execution_count": 3,
   "id": "f78880a8-f521-4f9e-90e9-55830067489d",
   "metadata": {},
   "outputs": [],
   "source": [
    "from spreg import ML_Error\n",
    "from spreg import ML_Lag"
   ]
  },
  {
   "cell_type": "code",
   "execution_count": 4,
   "id": "a6789532-94d9-4450-ae56-ab21f44c16f3",
   "metadata": {},
   "outputs": [],
   "source": [
    "import libpysal as lps\n",
    "from libpysal.weights import Queen, Rook, KNN\n",
    "from libpysal import weights\n",
    "import mapclassify"
   ]
  },
  {
   "cell_type": "code",
   "execution_count": 5,
   "id": "dab94162-ebad-4621-b718-892969632633",
   "metadata": {},
   "outputs": [],
   "source": [
    "dfh = pd.read_csv(\"Data_excel/health.csv\")\n",
    "dfu = pd.read_csv(\"Data_excel/unemployment_rate_3.csv\")"
   ]
  },
  {
   "cell_type": "code",
   "execution_count": 6,
   "id": "44a7624f-2f30-4906-8cd3-a8c211527940",
   "metadata": {},
   "outputs": [],
   "source": [
    "dfh[~dfh.isin(dfu)].dropna(how = 'all', inplace= True)"
   ]
  },
  {
   "cell_type": "code",
   "execution_count": 7,
   "id": "1e7ba5a4-31e6-47b3-bb2e-778bc5e33f96",
   "metadata": {},
   "outputs": [
    {
     "name": "stderr",
     "output_type": "stream",
     "text": [
      "D:\\conda_tmp\\ipykernel_6124\\3341374521.py:1: FutureWarning: The default value of numeric_only in DataFrameGroupBy.mean is deprecated. In a future version, numeric_only will default to False. Either specify numeric_only or select only columns which should be valid for the function.\n",
      "  dfhg=dfh.groupby(\"Local authority name (2020)\").mean()\n"
     ]
    }
   ],
   "source": [
    "dfhg=dfh.groupby(\"Local authority name (2020)\").mean()"
   ]
  },
  {
   "cell_type": "code",
   "execution_count": 8,
   "id": "9b32e242-4b23-49d8-af8f-d5af70c3ef37",
   "metadata": {},
   "outputs": [],
   "source": [
    "dfu2 = dfu.rename(columns={'Local Authority': 'Local authority name (2020)'})"
   ]
  },
  {
   "cell_type": "code",
   "execution_count": 9,
   "id": "028f08e9-f79a-43b8-860a-48d5f1dbaa4a",
   "metadata": {},
   "outputs": [],
   "source": [
    "df = pd.merge(dfhg, dfu2, how= 'left' , on='Local authority name (2020)')"
   ]
  },
  {
   "cell_type": "code",
   "execution_count": 10,
   "id": "55f0fdbd-a3a0-4e05-9489-d69021b6f602",
   "metadata": {},
   "outputs": [],
   "source": [
    "df.drop('Unnamed: 12', axis=1, inplace=True)"
   ]
  },
  {
   "cell_type": "code",
   "execution_count": 11,
   "id": "d414f03a-f3ce-4669-8067-03fd977be976",
   "metadata": {},
   "outputs": [],
   "source": [
    "df = df.rename(columns={\"Jan 2021 to Dec 2021\":\"Jan_2021_to_Dec_2021\"})"
   ]
  },
  {
   "cell_type": "code",
   "execution_count": 12,
   "id": "cc1c6c85-7cfa-4449-bbcf-d7501f83796d",
   "metadata": {},
   "outputs": [],
   "source": [
    "from shapely.geometry import Point\n",
    "%matplotlib inline"
   ]
  },
  {
   "cell_type": "code",
   "execution_count": 13,
   "id": "9abcee59-0663-4749-a372-343aa4a6845e",
   "metadata": {},
   "outputs": [],
   "source": [
    "shapefile = gpd.read_file(\"Data_excel/LAD_MAY_2021_UK_BFE_V2.shp\")"
   ]
  },
  {
   "cell_type": "code",
   "execution_count": null,
   "id": "163d854e-1371-4342-83e9-c43b11595655",
   "metadata": {},
   "outputs": [],
   "source": []
  },
  {
   "cell_type": "code",
   "execution_count": 14,
   "id": "8dec5847-3e3d-43a6-adcf-5c1c5a26e42b",
   "metadata": {},
   "outputs": [
    {
     "name": "stderr",
     "output_type": "stream",
     "text": [
      "D:\\conda\\envs\\sds2022\\lib\\site-packages\\libpysal\\weights\\weights.py:172: UserWarning: The weights matrix is not fully connected: \n",
      " There are 8 disconnected components.\n",
      " There are 6 islands with ids: 43, 49, 325, 332, 334, 352.\n",
      "  warnings.warn(message)\n"
     ]
    },
    {
     "data": {
      "text/plain": [
       "<libpysal.weights.contiguity.Queen at 0x212a603e790>"
      ]
     },
     "execution_count": 14,
     "metadata": {},
     "output_type": "execute_result"
    }
   ],
   "source": [
    "wq = Queen.from_dataframe(shapefile)\n",
    "wq"
   ]
  },
  {
   "cell_type": "code",
   "execution_count": 15,
   "id": "360a15d2-3143-4417-b99b-2f8a52731ac1",
   "metadata": {},
   "outputs": [
    {
     "data": {
      "text/plain": [
       "(374, 10)"
      ]
     },
     "execution_count": 15,
     "metadata": {},
     "output_type": "execute_result"
    }
   ],
   "source": [
    "shapefile = shapefile.rename(columns={\"LAD21NM\":\"Local authority name (2020)\"})\n",
    "shapefile.shape"
   ]
  },
  {
   "cell_type": "code",
   "execution_count": 16,
   "id": "46f39e06-ff2a-4791-ab14-289d5d53a4dc",
   "metadata": {},
   "outputs": [],
   "source": [
    "df_shape = pd.merge(df, shapefile, how= 'left' , on='Local authority name (2020)')\n"
   ]
  },
  {
   "cell_type": "code",
   "execution_count": 17,
   "id": "acda485e-1bd7-4959-acf0-1a4ff259ba70",
   "metadata": {},
   "outputs": [
    {
     "data": {
      "text/plain": [
       "Index(['Local authority name (2020)', 'Asthma', 'Atrial fibrillation',\n",
       "       'Cancer diagnosis since 2003', 'Cardiovascular disease prevention',\n",
       "       'Chronic kidney disease', 'COPD', 'Coronary heart disease', 'Dementia',\n",
       "       'Depression', 'Diabetes', 'Epilepsy', 'Heart failure',\n",
       "       'High blood pressure (hypertension)', 'Learning disabilities',\n",
       "       'Obesity', 'Osteoporosis', 'Peripheral arterial disease',\n",
       "       'Rheumatoid arthritis', 'Schizophrenia, bipolar disorder & psychoses',\n",
       "       'Stroke and transient ischaemic attack', 'Local Authority Code',\n",
       "       'Jan 2019 to Dec 2019', 'Apr 2019 to Mar 2020', 'Jul 2019 to Jun 2020',\n",
       "       'Oct 2019 to Sep 2020', 'Jan 2020 to Dec 2020', 'Apr 2020 to Mar 2021',\n",
       "       'Jul 2020 to Jun 2021', 'Oct 2020 to Sep 2021', 'Jan_2021_to_Dec_2021',\n",
       "       'Apr 2021 to Mar 2022', 'OBJECTID', 'LAD21CD', 'BNG_E', 'BNG_N', 'LONG',\n",
       "       'LAT', 'SHAPE_Leng', 'SHAPE_Area', 'geometry'],\n",
       "      dtype='object')"
      ]
     },
     "execution_count": 17,
     "metadata": {},
     "output_type": "execute_result"
    }
   ],
   "source": [
    "df_shape.columns"
   ]
  },
  {
   "cell_type": "code",
   "execution_count": 18,
   "id": "d3e67be2-1c01-456c-8157-6d48aa11c0fc",
   "metadata": {},
   "outputs": [
    {
     "data": {
      "text/html": [
       "<div>\n",
       "<style scoped>\n",
       "    .dataframe tbody tr th:only-of-type {\n",
       "        vertical-align: middle;\n",
       "    }\n",
       "\n",
       "    .dataframe tbody tr th {\n",
       "        vertical-align: top;\n",
       "    }\n",
       "\n",
       "    .dataframe thead th {\n",
       "        text-align: right;\n",
       "    }\n",
       "</style>\n",
       "<table border=\"1\" class=\"dataframe\">\n",
       "  <thead>\n",
       "    <tr style=\"text-align: right;\">\n",
       "      <th></th>\n",
       "      <th>OBJECTID</th>\n",
       "      <th>LAD21CD</th>\n",
       "      <th>Local authority name (2020)</th>\n",
       "      <th>BNG_E</th>\n",
       "      <th>BNG_N</th>\n",
       "      <th>LONG</th>\n",
       "      <th>LAT</th>\n",
       "      <th>SHAPE_Leng</th>\n",
       "      <th>SHAPE_Area</th>\n",
       "      <th>geometry</th>\n",
       "    </tr>\n",
       "  </thead>\n",
       "  <tbody>\n",
       "    <tr>\n",
       "      <th>0</th>\n",
       "      <td>1</td>\n",
       "      <td>E06000001</td>\n",
       "      <td>Hartlepool</td>\n",
       "      <td>447160</td>\n",
       "      <td>531474</td>\n",
       "      <td>-1.27018</td>\n",
       "      <td>54.676140</td>\n",
       "      <td>66110.011028</td>\n",
       "      <td>9.835107e+07</td>\n",
       "      <td>POLYGON ((447213.900 537036.104, 447228.798 53...</td>\n",
       "    </tr>\n",
       "    <tr>\n",
       "      <th>1</th>\n",
       "      <td>2</td>\n",
       "      <td>E06000002</td>\n",
       "      <td>Middlesbrough</td>\n",
       "      <td>451141</td>\n",
       "      <td>516887</td>\n",
       "      <td>-1.21099</td>\n",
       "      <td>54.544670</td>\n",
       "      <td>41055.789790</td>\n",
       "      <td>5.455359e+07</td>\n",
       "      <td>POLYGON ((448489.897 522071.798, 448592.597 52...</td>\n",
       "    </tr>\n",
       "    <tr>\n",
       "      <th>2</th>\n",
       "      <td>3</td>\n",
       "      <td>E06000003</td>\n",
       "      <td>Redcar and Cleveland</td>\n",
       "      <td>464361</td>\n",
       "      <td>519597</td>\n",
       "      <td>-1.00608</td>\n",
       "      <td>54.567520</td>\n",
       "      <td>105292.103526</td>\n",
       "      <td>2.537854e+08</td>\n",
       "      <td>POLYGON ((455525.931 528406.654, 455724.632 52...</td>\n",
       "    </tr>\n",
       "    <tr>\n",
       "      <th>3</th>\n",
       "      <td>4</td>\n",
       "      <td>E06000004</td>\n",
       "      <td>Stockton-on-Tees</td>\n",
       "      <td>444940</td>\n",
       "      <td>518183</td>\n",
       "      <td>-1.30664</td>\n",
       "      <td>54.556911</td>\n",
       "      <td>108085.190140</td>\n",
       "      <td>2.097308e+08</td>\n",
       "      <td>POLYGON ((444157.002 527956.304, 444165.898 52...</td>\n",
       "    </tr>\n",
       "    <tr>\n",
       "      <th>4</th>\n",
       "      <td>5</td>\n",
       "      <td>E06000005</td>\n",
       "      <td>Darlington</td>\n",
       "      <td>428029</td>\n",
       "      <td>515648</td>\n",
       "      <td>-1.56835</td>\n",
       "      <td>54.535339</td>\n",
       "      <td>107203.152334</td>\n",
       "      <td>1.974778e+08</td>\n",
       "      <td>POLYGON ((423496.602 524724.299, 423497.204 52...</td>\n",
       "    </tr>\n",
       "  </tbody>\n",
       "</table>\n",
       "</div>"
      ],
      "text/plain": [
       "   OBJECTID    LAD21CD Local authority name (2020)   BNG_E   BNG_N     LONG  \\\n",
       "0         1  E06000001                  Hartlepool  447160  531474 -1.27018   \n",
       "1         2  E06000002               Middlesbrough  451141  516887 -1.21099   \n",
       "2         3  E06000003        Redcar and Cleveland  464361  519597 -1.00608   \n",
       "3         4  E06000004            Stockton-on-Tees  444940  518183 -1.30664   \n",
       "4         5  E06000005                  Darlington  428029  515648 -1.56835   \n",
       "\n",
       "         LAT     SHAPE_Leng    SHAPE_Area  \\\n",
       "0  54.676140   66110.011028  9.835107e+07   \n",
       "1  54.544670   41055.789790  5.455359e+07   \n",
       "2  54.567520  105292.103526  2.537854e+08   \n",
       "3  54.556911  108085.190140  2.097308e+08   \n",
       "4  54.535339  107203.152334  1.974778e+08   \n",
       "\n",
       "                                            geometry  \n",
       "0  POLYGON ((447213.900 537036.104, 447228.798 53...  \n",
       "1  POLYGON ((448489.897 522071.798, 448592.597 52...  \n",
       "2  POLYGON ((455525.931 528406.654, 455724.632 52...  \n",
       "3  POLYGON ((444157.002 527956.304, 444165.898 52...  \n",
       "4  POLYGON ((423496.602 524724.299, 423497.204 52...  "
      ]
     },
     "execution_count": 18,
     "metadata": {},
     "output_type": "execute_result"
    }
   ],
   "source": [
    "shapefile.head()"
   ]
  },
  {
   "cell_type": "code",
   "execution_count": 19,
   "id": "ba2a32ef-9d64-4f1c-94dd-e2203d73050b",
   "metadata": {},
   "outputs": [],
   "source": [
    "smaller_df_shape = df_shape[[\"Local authority name (2020)\", \"Jan_2021_to_Dec_2021\",\"Asthma\", \"Cancer diagnosis since 2003\",\n",
    "                             \"Diabetes\", \"Learning disabilities\", \"Obesity\", \"Depression\",\n",
    "                             ]].copy()  "
   ]
  },
  {
   "cell_type": "code",
   "execution_count": 20,
   "id": "445c083e-0cdd-4bfc-be58-562d70f9d560",
   "metadata": {},
   "outputs": [
    {
     "data": {
      "text/html": [
       "<div>\n",
       "<style scoped>\n",
       "    .dataframe tbody tr th:only-of-type {\n",
       "        vertical-align: middle;\n",
       "    }\n",
       "\n",
       "    .dataframe tbody tr th {\n",
       "        vertical-align: top;\n",
       "    }\n",
       "\n",
       "    .dataframe thead th {\n",
       "        text-align: right;\n",
       "    }\n",
       "</style>\n",
       "<table border=\"1\" class=\"dataframe\">\n",
       "  <thead>\n",
       "    <tr style=\"text-align: right;\">\n",
       "      <th></th>\n",
       "      <th>Local authority name (2020)</th>\n",
       "      <th>Jan_2021_to_Dec_2021</th>\n",
       "      <th>Asthma</th>\n",
       "      <th>Cancer diagnosis since 2003</th>\n",
       "      <th>Diabetes</th>\n",
       "      <th>Learning disabilities</th>\n",
       "      <th>Obesity</th>\n",
       "      <th>Depression</th>\n",
       "    </tr>\n",
       "  </thead>\n",
       "  <tbody>\n",
       "    <tr>\n",
       "      <th>0</th>\n",
       "      <td>Adur</td>\n",
       "      <td>3.8</td>\n",
       "      <td>7.441750</td>\n",
       "      <td>4.079375</td>\n",
       "      <td>8.720375</td>\n",
       "      <td>0.524750</td>\n",
       "      <td>11.687875</td>\n",
       "      <td>16.908875</td>\n",
       "    </tr>\n",
       "    <tr>\n",
       "      <th>1</th>\n",
       "      <td>Allerdale</td>\n",
       "      <td>3.5</td>\n",
       "      <td>7.407000</td>\n",
       "      <td>4.287917</td>\n",
       "      <td>8.325417</td>\n",
       "      <td>0.559917</td>\n",
       "      <td>13.555083</td>\n",
       "      <td>13.144917</td>\n",
       "    </tr>\n",
       "    <tr>\n",
       "      <th>2</th>\n",
       "      <td>Amber Valley</td>\n",
       "      <td>3.4</td>\n",
       "      <td>7.279687</td>\n",
       "      <td>3.798563</td>\n",
       "      <td>7.190437</td>\n",
       "      <td>0.659000</td>\n",
       "      <td>12.386188</td>\n",
       "      <td>13.793437</td>\n",
       "    </tr>\n",
       "    <tr>\n",
       "      <th>3</th>\n",
       "      <td>Arun</td>\n",
       "      <td>3.8</td>\n",
       "      <td>7.211211</td>\n",
       "      <td>4.620105</td>\n",
       "      <td>8.569421</td>\n",
       "      <td>0.622526</td>\n",
       "      <td>10.531105</td>\n",
       "      <td>12.221158</td>\n",
       "    </tr>\n",
       "    <tr>\n",
       "      <th>4</th>\n",
       "      <td>Ashfield</td>\n",
       "      <td>3.6</td>\n",
       "      <td>6.817750</td>\n",
       "      <td>3.415188</td>\n",
       "      <td>8.407750</td>\n",
       "      <td>0.720500</td>\n",
       "      <td>14.900625</td>\n",
       "      <td>13.051813</td>\n",
       "    </tr>\n",
       "    <tr>\n",
       "      <th>...</th>\n",
       "      <td>...</td>\n",
       "      <td>...</td>\n",
       "      <td>...</td>\n",
       "      <td>...</td>\n",
       "      <td>...</td>\n",
       "      <td>...</td>\n",
       "      <td>...</td>\n",
       "      <td>...</td>\n",
       "    </tr>\n",
       "    <tr>\n",
       "      <th>309</th>\n",
       "      <td>Worthing</td>\n",
       "      <td>4.4</td>\n",
       "      <td>7.481231</td>\n",
       "      <td>3.966538</td>\n",
       "      <td>7.717077</td>\n",
       "      <td>0.634077</td>\n",
       "      <td>8.815692</td>\n",
       "      <td>14.556231</td>\n",
       "    </tr>\n",
       "    <tr>\n",
       "      <th>310</th>\n",
       "      <td>Wychavon</td>\n",
       "      <td>3.3</td>\n",
       "      <td>7.019842</td>\n",
       "      <td>4.436579</td>\n",
       "      <td>7.419316</td>\n",
       "      <td>0.423684</td>\n",
       "      <td>13.340789</td>\n",
       "      <td>11.743684</td>\n",
       "    </tr>\n",
       "    <tr>\n",
       "      <th>311</th>\n",
       "      <td>Wyre</td>\n",
       "      <td>3.9</td>\n",
       "      <td>7.887214</td>\n",
       "      <td>4.465429</td>\n",
       "      <td>7.923357</td>\n",
       "      <td>0.428643</td>\n",
       "      <td>14.678357</td>\n",
       "      <td>15.446071</td>\n",
       "    </tr>\n",
       "    <tr>\n",
       "      <th>312</th>\n",
       "      <td>Wyre Forest</td>\n",
       "      <td>4.3</td>\n",
       "      <td>7.749571</td>\n",
       "      <td>4.481429</td>\n",
       "      <td>8.779429</td>\n",
       "      <td>0.632071</td>\n",
       "      <td>14.558429</td>\n",
       "      <td>17.790143</td>\n",
       "    </tr>\n",
       "    <tr>\n",
       "      <th>313</th>\n",
       "      <td>York</td>\n",
       "      <td>2.9</td>\n",
       "      <td>6.425708</td>\n",
       "      <td>3.208250</td>\n",
       "      <td>5.146167</td>\n",
       "      <td>0.318750</td>\n",
       "      <td>9.235125</td>\n",
       "      <td>10.808375</td>\n",
       "    </tr>\n",
       "  </tbody>\n",
       "</table>\n",
       "<p>314 rows × 8 columns</p>\n",
       "</div>"
      ],
      "text/plain": [
       "    Local authority name (2020)  Jan_2021_to_Dec_2021    Asthma  \\\n",
       "0                          Adur                   3.8  7.441750   \n",
       "1                     Allerdale                   3.5  7.407000   \n",
       "2                  Amber Valley                   3.4  7.279687   \n",
       "3                          Arun                   3.8  7.211211   \n",
       "4                      Ashfield                   3.6  6.817750   \n",
       "..                          ...                   ...       ...   \n",
       "309                    Worthing                   4.4  7.481231   \n",
       "310                    Wychavon                   3.3  7.019842   \n",
       "311                        Wyre                   3.9  7.887214   \n",
       "312                 Wyre Forest                   4.3  7.749571   \n",
       "313                        York                   2.9  6.425708   \n",
       "\n",
       "     Cancer diagnosis since 2003  Diabetes  Learning disabilities    Obesity  \\\n",
       "0                       4.079375  8.720375               0.524750  11.687875   \n",
       "1                       4.287917  8.325417               0.559917  13.555083   \n",
       "2                       3.798563  7.190437               0.659000  12.386188   \n",
       "3                       4.620105  8.569421               0.622526  10.531105   \n",
       "4                       3.415188  8.407750               0.720500  14.900625   \n",
       "..                           ...       ...                    ...        ...   \n",
       "309                     3.966538  7.717077               0.634077   8.815692   \n",
       "310                     4.436579  7.419316               0.423684  13.340789   \n",
       "311                     4.465429  7.923357               0.428643  14.678357   \n",
       "312                     4.481429  8.779429               0.632071  14.558429   \n",
       "313                     3.208250  5.146167               0.318750   9.235125   \n",
       "\n",
       "     Depression  \n",
       "0     16.908875  \n",
       "1     13.144917  \n",
       "2     13.793437  \n",
       "3     12.221158  \n",
       "4     13.051813  \n",
       "..          ...  \n",
       "309   14.556231  \n",
       "310   11.743684  \n",
       "311   15.446071  \n",
       "312   17.790143  \n",
       "313   10.808375  \n",
       "\n",
       "[314 rows x 8 columns]"
      ]
     },
     "execution_count": 20,
     "metadata": {},
     "output_type": "execute_result"
    }
   ],
   "source": [
    "smaller_df_shape"
   ]
  },
  {
   "cell_type": "code",
   "execution_count": 21,
   "id": "c97ec6c1-b39e-47ad-a71f-ea98068a1384",
   "metadata": {},
   "outputs": [],
   "source": [
    "smaller_df_shape=smaller_df_shape.dropna(axis=0)"
   ]
  },
  {
   "cell_type": "code",
   "execution_count": 22,
   "id": "ca77848a-5e88-42ea-b135-77d9cb17c94a",
   "metadata": {},
   "outputs": [
    {
     "data": {
      "text/plain": [
       "(312, 8)"
      ]
     },
     "execution_count": 22,
     "metadata": {},
     "output_type": "execute_result"
    }
   ],
   "source": [
    "smaller_df_shape.shape"
   ]
  },
  {
   "cell_type": "code",
   "execution_count": 23,
   "id": "6bdf29ad-7785-45f8-b17d-de850acdb85a",
   "metadata": {},
   "outputs": [],
   "source": [
    "smaller_df_shape = smaller_df_shape.rename(columns={\n",
    "                                    \"Cancer diagnosis since 2003\":\"Cancer_diagnosis_since_2003\",\n",
    "                                    \"Cardiovascular disease prevention\":\"Cardiovascular_disease_prevention\",\n",
    "                                   \"Learning disabilities\":\"Learning_disabilities\",})"
   ]
  },
  {
   "cell_type": "code",
   "execution_count": 24,
   "id": "a23744a8-b8ed-4ab8-a517-056cbf7e174f",
   "metadata": {},
   "outputs": [
    {
     "data": {
      "text/html": [
       "<div>\n",
       "<style scoped>\n",
       "    .dataframe tbody tr th:only-of-type {\n",
       "        vertical-align: middle;\n",
       "    }\n",
       "\n",
       "    .dataframe tbody tr th {\n",
       "        vertical-align: top;\n",
       "    }\n",
       "\n",
       "    .dataframe thead th {\n",
       "        text-align: right;\n",
       "    }\n",
       "</style>\n",
       "<table border=\"1\" class=\"dataframe\">\n",
       "  <thead>\n",
       "    <tr style=\"text-align: right;\">\n",
       "      <th></th>\n",
       "      <th>Local authority name (2020)</th>\n",
       "      <th>Jan_2021_to_Dec_2021</th>\n",
       "      <th>Asthma</th>\n",
       "      <th>Cancer_diagnosis_since_2003</th>\n",
       "      <th>Diabetes</th>\n",
       "      <th>Learning_disabilities</th>\n",
       "      <th>Obesity</th>\n",
       "      <th>Depression</th>\n",
       "    </tr>\n",
       "  </thead>\n",
       "  <tbody>\n",
       "    <tr>\n",
       "      <th>0</th>\n",
       "      <td>Adur</td>\n",
       "      <td>3.8</td>\n",
       "      <td>7.441750</td>\n",
       "      <td>4.079375</td>\n",
       "      <td>8.720375</td>\n",
       "      <td>0.524750</td>\n",
       "      <td>11.687875</td>\n",
       "      <td>16.908875</td>\n",
       "    </tr>\n",
       "    <tr>\n",
       "      <th>1</th>\n",
       "      <td>Allerdale</td>\n",
       "      <td>3.5</td>\n",
       "      <td>7.407000</td>\n",
       "      <td>4.287917</td>\n",
       "      <td>8.325417</td>\n",
       "      <td>0.559917</td>\n",
       "      <td>13.555083</td>\n",
       "      <td>13.144917</td>\n",
       "    </tr>\n",
       "    <tr>\n",
       "      <th>2</th>\n",
       "      <td>Amber Valley</td>\n",
       "      <td>3.4</td>\n",
       "      <td>7.279687</td>\n",
       "      <td>3.798563</td>\n",
       "      <td>7.190437</td>\n",
       "      <td>0.659000</td>\n",
       "      <td>12.386188</td>\n",
       "      <td>13.793437</td>\n",
       "    </tr>\n",
       "    <tr>\n",
       "      <th>3</th>\n",
       "      <td>Arun</td>\n",
       "      <td>3.8</td>\n",
       "      <td>7.211211</td>\n",
       "      <td>4.620105</td>\n",
       "      <td>8.569421</td>\n",
       "      <td>0.622526</td>\n",
       "      <td>10.531105</td>\n",
       "      <td>12.221158</td>\n",
       "    </tr>\n",
       "    <tr>\n",
       "      <th>4</th>\n",
       "      <td>Ashfield</td>\n",
       "      <td>3.6</td>\n",
       "      <td>6.817750</td>\n",
       "      <td>3.415188</td>\n",
       "      <td>8.407750</td>\n",
       "      <td>0.720500</td>\n",
       "      <td>14.900625</td>\n",
       "      <td>13.051813</td>\n",
       "    </tr>\n",
       "  </tbody>\n",
       "</table>\n",
       "</div>"
      ],
      "text/plain": [
       "  Local authority name (2020)  Jan_2021_to_Dec_2021    Asthma  \\\n",
       "0                        Adur                   3.8  7.441750   \n",
       "1                   Allerdale                   3.5  7.407000   \n",
       "2                Amber Valley                   3.4  7.279687   \n",
       "3                        Arun                   3.8  7.211211   \n",
       "4                    Ashfield                   3.6  6.817750   \n",
       "\n",
       "   Cancer_diagnosis_since_2003  Diabetes  Learning_disabilities    Obesity  \\\n",
       "0                     4.079375  8.720375               0.524750  11.687875   \n",
       "1                     4.287917  8.325417               0.559917  13.555083   \n",
       "2                     3.798563  7.190437               0.659000  12.386188   \n",
       "3                     4.620105  8.569421               0.622526  10.531105   \n",
       "4                     3.415188  8.407750               0.720500  14.900625   \n",
       "\n",
       "   Depression  \n",
       "0   16.908875  \n",
       "1   13.144917  \n",
       "2   13.793437  \n",
       "3   12.221158  \n",
       "4   13.051813  "
      ]
     },
     "execution_count": 24,
     "metadata": {},
     "output_type": "execute_result"
    }
   ],
   "source": [
    "smaller_df_shape.head()\n",
    "\n",
    "#forgot to add geometry to the smaller dataframe"
   ]
  },
  {
   "cell_type": "code",
   "execution_count": 25,
   "id": "c1b5225e-07de-4187-b177-0de7d825669d",
   "metadata": {},
   "outputs": [],
   "source": [
    "#do i merge it via shapefile.merge?"
   ]
  },
  {
   "cell_type": "code",
   "execution_count": 26,
   "id": "30cdeefc-90e9-407d-84fb-65fa41808ee8",
   "metadata": {},
   "outputs": [],
   "source": [
    "gdf = shapefile.merge(smaller_df_shape, how=\"left\", on=\"Local authority name (2020)\")\n",
    "\n",
    "#got it. Make the shapefile the 'subject' if you will"
   ]
  },
  {
   "cell_type": "code",
   "execution_count": 27,
   "id": "a01aef92-668a-4985-bbce-62ef9db97ec8",
   "metadata": {},
   "outputs": [],
   "source": [
    "gdf = gdf.dropna(axis=0)"
   ]
  },
  {
   "cell_type": "code",
   "execution_count": 28,
   "id": "753dc004-a36c-4e7b-88cd-3339c18a71fd",
   "metadata": {},
   "outputs": [
    {
     "data": {
      "text/plain": [
       "(305, 17)"
      ]
     },
     "execution_count": 28,
     "metadata": {},
     "output_type": "execute_result"
    }
   ],
   "source": [
    "gdf.shape"
   ]
  },
  {
   "cell_type": "code",
   "execution_count": 29,
   "id": "034faa48-9a6f-47ca-80be-d228d2ef3db9",
   "metadata": {},
   "outputs": [],
   "source": [
    "gdf=gdf.drop([305,306,307,308])"
   ]
  },
  {
   "cell_type": "code",
   "execution_count": 30,
   "id": "7b413d54-0177-4037-a817-067297cbfef7",
   "metadata": {},
   "outputs": [
    {
     "data": {
      "text/plain": [
       "(301, 17)"
      ]
     },
     "execution_count": 30,
     "metadata": {},
     "output_type": "execute_result"
    }
   ],
   "source": [
    "gdf.shape"
   ]
  },
  {
   "cell_type": "code",
   "execution_count": 31,
   "id": "de3ab5be-089b-4fb1-a1b6-54bf21b44b3d",
   "metadata": {},
   "outputs": [
    {
     "data": {
      "text/plain": [
       "Index(['Local authority name (2020)', 'Jan_2021_to_Dec_2021', 'Asthma',\n",
       "       'Cancer_diagnosis_since_2003', 'Diabetes', 'Learning_disabilities',\n",
       "       'Obesity', 'Depression'],\n",
       "      dtype='object')"
      ]
     },
     "execution_count": 31,
     "metadata": {},
     "output_type": "execute_result"
    }
   ],
   "source": [
    "smaller_df_shape.columns"
   ]
  },
  {
   "cell_type": "code",
   "execution_count": null,
   "id": "3fa50a0c-eb80-47ea-a002-3be3a5a8f447",
   "metadata": {},
   "outputs": [],
   "source": []
  },
  {
   "cell_type": "code",
   "execution_count": 32,
   "id": "ce66cc6f-4199-40a0-a522-4af322f754d6",
   "metadata": {},
   "outputs": [
    {
     "ename": "NameError",
     "evalue": "name 'gdf_par_2' is not defined",
     "output_type": "error",
     "traceback": [
      "\u001b[1;31m---------------------------------------------------------------------------\u001b[0m",
      "\u001b[1;31mNameError\u001b[0m                                 Traceback (most recent call last)",
      "Cell \u001b[1;32mIn [32], line 1\u001b[0m\n\u001b[1;32m----> 1\u001b[0m gdf[\u001b[38;5;241m~\u001b[39mgdf\u001b[38;5;241m.\u001b[39mindex\u001b[38;5;241m.\u001b[39misin(\u001b[43mgdf_par_2\u001b[49m\u001b[38;5;241m.\u001b[39mindex)]\n",
      "\u001b[1;31mNameError\u001b[0m: name 'gdf_par_2' is not defined"
     ]
    }
   ],
   "source": [
    "gdf[~gdf.index.isin(gdf_par_2.index)]"
   ]
  },
  {
   "cell_type": "code",
   "execution_count": null,
   "id": "ed668196-7546-4b78-896d-9d473f91d03b",
   "metadata": {},
   "outputs": [],
   "source": [
    "gdf_par.shape"
   ]
  },
  {
   "cell_type": "code",
   "execution_count": null,
   "id": "26e3792a-733c-49e5-987f-1ef82986d963",
   "metadata": {},
   "outputs": [],
   "source": [
    "gdf_par_2.shape"
   ]
  },
  {
   "cell_type": "code",
   "execution_count": null,
   "id": "5c3f996a-5d27-4716-a62f-b466a277c550",
   "metadata": {},
   "outputs": [],
   "source": [
    "gdf_par.count()"
   ]
  },
  {
   "cell_type": "code",
   "execution_count": null,
   "id": "93827567-861d-48e0-ac70-6e31e0dacf26",
   "metadata": {},
   "outputs": [],
   "source": [
    "gdf[\"Local authority name (2020)\"]"
   ]
  },
  {
   "cell_type": "code",
   "execution_count": null,
   "id": "848576af-da97-4ada-a86a-786b988127a1",
   "metadata": {},
   "outputs": [],
   "source": [
    "print(gdf_par[\"Local authority name (2020)\"])"
   ]
  },
  {
   "cell_type": "code",
   "execution_count": null,
   "id": "1d072497-61f7-4415-afac-e535368c7a55",
   "metadata": {},
   "outputs": [],
   "source": []
  },
  {
   "cell_type": "code",
   "execution_count": null,
   "id": "34ab3eda-1df0-4ff2-bca1-bb085b025a4e",
   "metadata": {},
   "outputs": [],
   "source": [
    "unemployment_2021 = gdf['Jan_2021_to_Dec_2021']"
   ]
  },
  {
   "cell_type": "code",
   "execution_count": null,
   "id": "af5aa4e0-cc03-4460-ad78-74520b0acdd1",
   "metadata": {},
   "outputs": [],
   "source": [
    "y = np.array(unemployment_2021)"
   ]
  },
  {
   "cell_type": "code",
   "execution_count": null,
   "id": "870def84-1120-4650-a700-47a2647aa3c0",
   "metadata": {},
   "outputs": [],
   "source": [
    "y.shape = (len(unemployment_2021),1)"
   ]
  },
  {
   "cell_type": "code",
   "execution_count": null,
   "id": "0684d487-2537-4d36-bf97-5e02c1897410",
   "metadata": {},
   "outputs": [],
   "source": [
    "X = []\n",
    "X.append(gdf['Asthma'])\n",
    "X.append(gdf['Cancer_diagnosis_since_2003'])\n",
    "X.append(gdf['Depression'])\n",
    "X.append(gdf['Diabetes'])\n",
    "X.append(gdf['Learning_disabilities'])\n",
    "X.append(gdf['Obesity'])\n",
    "\n"
   ]
  },
  {
   "cell_type": "code",
   "execution_count": null,
   "id": "a8919c88-caef-4cf6-88a5-9ac33f7b8bd1",
   "metadata": {},
   "outputs": [],
   "source": [
    "X=np.array(X).T"
   ]
  },
  {
   "cell_type": "code",
   "execution_count": null,
   "id": "74ba681f-fd57-4f46-a77f-9b85ea438ad9",
   "metadata": {},
   "outputs": [],
   "source": [
    "g_y = gdf['Jan_2021_to_Dec_2021'].values.reshape((-1,1))\n",
    "g_X = gdf[[\"Asthma\",\"Cancer_diagnosis_since_2003\",\n",
    "                 \"Diabetes\",\"Learning_disabilities\",\n",
    "               \"Obesity\", \"Depression\"]].values\n",
    "u = gdf['LONG']\n",
    "v = gdf['LAT']\n",
    "\n",
    "\n",
    "g_coords = list(zip(u,v))"
   ]
  },
  {
   "cell_type": "code",
   "execution_count": null,
   "id": "86181b5b-d6f0-49f0-bea7-fe3ebcd40982",
   "metadata": {},
   "outputs": [],
   "source": [
    "bw = mgwr.sel_bw.Sel_BW(g_coords, \n",
    "                  g_y, # \n",
    "                  g_X, # \n",
    "                  fixed=False, # True for fixed bandwidth and false for adaptive bandwidth\n",
    "                  spherical=True)"
   ]
  },
  {
   "cell_type": "code",
   "execution_count": null,
   "id": "bebda562-d9e9-4863-b929-56cd8ed2de9c",
   "metadata": {},
   "outputs": [],
   "source": [
    "bw.search()"
   ]
  },
  {
   "cell_type": "code",
   "execution_count": null,
   "id": "aae6bdb3-5053-400b-991d-da69c48190bd",
   "metadata": {},
   "outputs": [],
   "source": [
    "model = mgwr.gwr.GWR(g_coords, # a collection of n sets of x and y coordinates\n",
    "                     g_y, # dependent variable\n",
    "                     g_X, # independent variables\n",
    "                     bw.bw[0]) # bandwidth value  ( we use N nearest neighbours)"
   ]
  },
  {
   "cell_type": "code",
   "execution_count": null,
   "id": "d375030c-430e-4466-a7df-e27329d55e8c",
   "metadata": {},
   "outputs": [],
   "source": [
    "results = model.fit()\n",
    "results.summary()"
   ]
  },
  {
   "cell_type": "code",
   "execution_count": null,
   "id": "ab198dcd-3f73-460c-ab44-4b66cf1e075d",
   "metadata": {},
   "outputs": [],
   "source": [
    "print(results.params.shape)"
   ]
  },
  {
   "cell_type": "code",
   "execution_count": null,
   "id": "cc29bf16-b9c2-4233-9da1-188b03058343",
   "metadata": {},
   "outputs": [],
   "source": [
    "filtered_estimates_95 = results.filter_tvals(alpha=.05)\n",
    "filtered_estimates_95"
   ]
  },
  {
   "cell_type": "code",
   "execution_count": null,
   "id": "4aa79ce8-b3e3-42e0-8c19-98c4d9e49eb4",
   "metadata": {},
   "outputs": [],
   "source": [
    "data_params = pd.DataFrame(filtered_estimates_95)\n",
    "data_localR2 = pd.DataFrame(results.localR2)"
   ]
  },
  {
   "cell_type": "code",
   "execution_count": null,
   "id": "1892a114-d58a-4fa4-b551-8b628cdc1f35",
   "metadata": {},
   "outputs": [],
   "source": [
    "gdf_par = gdf_par.dropna(axis=0)"
   ]
  },
  {
   "cell_type": "code",
   "execution_count": null,
   "id": "b9e5328d-425e-4463-9146-34cf8be55f5d",
   "metadata": {},
   "outputs": [],
   "source": [
    "gdf_map=pd.DataFrame(gdf[\"Local authority name (2020)\"])\n",
    "gdf_par = gdf_map.assign(intercept=data_params[0],\n",
    "                 Asthma=data_params[1],\n",
    "                 Cancer_diagnosis_since_2003=data_params[2],\n",
    "                        Diabetes=data_params[3],\n",
    "                        Learning_disabilities=data_params[4],\n",
    "                      Obesity=data_params[5],\n",
    "                               Depression=data_params[6],\n",
    "                        localR2=data_localR2[0])"
   ]
  },
  {
   "cell_type": "code",
   "execution_count": null,
   "id": "49f684f9-2b5b-42c2-b2e5-8cc1cc77af31",
   "metadata": {},
   "outputs": [],
   "source": [
    "gdf_par_2 = gdf_map.assign(intercept=data_params[0],\n",
    "                 Asthma=data_params[1],\n",
    "                 Cancer_diagnosis_since_2003=data_params[2],\n",
    "                        Diabetes=data_params[3],\n",
    "                        Learning_disabilities=data_params[4],\n",
    "                      Obesity=data_params[5],\n",
    "                               Depression=data_params[6],\n",
    "                        localR2=data_localR2[0])"
   ]
  },
  {
   "cell_type": "code",
   "execution_count": null,
   "id": "696e242a-bdec-45e6-b69c-a6c8a325e84f",
   "metadata": {},
   "outputs": [],
   "source": [
    "gdf_par_2  = shapefile.merge(gdf_par_2, how=\"left\", on=\"Local authority name (2020)\")"
   ]
  },
  {
   "cell_type": "code",
   "execution_count": null,
   "id": "7ff5614d-ccb0-4930-ba53-fea834b88112",
   "metadata": {},
   "outputs": [],
   "source": [
    "gdf_par  = shapefile.merge(gdf_par, how=\"left\", on=\"Local authority name (2020)\")"
   ]
  },
  {
   "cell_type": "code",
   "execution_count": null,
   "id": "c3d6f559-6330-468d-8421-d7996eefddbe",
   "metadata": {},
   "outputs": [],
   "source": [
    "gdf_par.shape"
   ]
  },
  {
   "cell_type": "code",
   "execution_count": null,
   "id": "47a9c4ac-cea4-4838-9a5e-d9bcfcd75f43",
   "metadata": {},
   "outputs": [],
   "source": [
    "gdf_par_2 = gdf_par_2.dropna(axis=0)"
   ]
  },
  {
   "cell_type": "code",
   "execution_count": null,
   "id": "083103dc-9340-47cf-b466-cb9536c19971",
   "metadata": {},
   "outputs": [],
   "source": [
    "gdf_par_2.shape"
   ]
  },
  {
   "cell_type": "code",
   "execution_count": null,
   "id": "0c0f1604-4499-4c24-98de-b1521200b221",
   "metadata": {},
   "outputs": [],
   "source": []
  },
  {
   "cell_type": "code",
   "execution_count": null,
   "id": "c395fa49-7454-4e6b-97c6-461f98257c9e",
   "metadata": {},
   "outputs": [],
   "source": [
    "gdf_par.shape"
   ]
  },
  {
   "cell_type": "code",
   "execution_count": null,
   "id": "409fbb7c-a858-4701-8982-acb14e026f91",
   "metadata": {},
   "outputs": [],
   "source": [
    "gdf_map.shape"
   ]
  },
  {
   "cell_type": "code",
   "execution_count": null,
   "id": "5479fe0e-7bdc-4ef0-8146-897df943e2a4",
   "metadata": {},
   "outputs": [],
   "source": [
    "shapefile.columns"
   ]
  },
  {
   "cell_type": "code",
   "execution_count": null,
   "id": "629bc6f4-07fa-43ac-9872-7844d9a385d6",
   "metadata": {},
   "outputs": [],
   "source": [
    "england_shp = shapefile.merge(gdf_par,left_on=\"Local authority name (2020)\", right_on= \"Local authority name (2020)\")"
   ]
  },
  {
   "cell_type": "code",
   "execution_count": null,
   "id": "c886b670-3717-444f-ad06-e3357aa4e651",
   "metadata": {},
   "outputs": [],
   "source": [
    "england_shp.shape"
   ]
  },
  {
   "cell_type": "code",
   "execution_count": null,
   "id": "4a100265-69e9-4e7f-8680-788d55f38889",
   "metadata": {},
   "outputs": [],
   "source": []
  },
  {
   "cell_type": "code",
   "execution_count": null,
   "id": "49eab47f-0544-4423-99e7-de0e04b2506a",
   "metadata": {},
   "outputs": [],
   "source": [
    "gdf_par_merge = shapefile.merge(gdf_par, how=\"left\", on=\"Local authority name (2020)\")"
   ]
  },
  {
   "cell_type": "code",
   "execution_count": null,
   "id": "d0a31b72-e08a-4ff1-a4b2-aa5dc53cb58f",
   "metadata": {},
   "outputs": [],
   "source": [
    "gdf_par_merge = gdf_par_merge.dropna(axis=0)"
   ]
  },
  {
   "cell_type": "code",
   "execution_count": null,
   "id": "9563b385-f1e4-42d1-82b9-e51f52be04fd",
   "metadata": {},
   "outputs": [],
   "source": [
    "gdf_par_merge.shape"
   ]
  },
  {
   "cell_type": "code",
   "execution_count": null,
   "id": "328336bd-2348-493a-9f9b-30f9571596ea",
   "metadata": {},
   "outputs": [],
   "source": []
  },
  {
   "cell_type": "code",
   "execution_count": null,
   "id": "3f996cb7-9768-409b-92e1-35b75fc314ae",
   "metadata": {},
   "outputs": [],
   "source": [
    "gdf_non_sig = england_shp.assign(toplot=filtered_estimates_95.T[i])"
   ]
  },
  {
   "cell_type": "code",
   "execution_count": null,
   "id": "909c51af-3465-4a8b-bdc5-28a3e88e9f1e",
   "metadata": {},
   "outputs": [],
   "source": [
    "# First, let's create empty set of subplots with 2 rows and 3 columns\n",
    "f,ax=plt.subplots(4,2,figsize=(20,10), subplot_kw=dict(aspect='equal'))\n",
    "# Flatten them\n",
    "ax = ax.flatten()\n",
    "# Define the title of our plots\n",
    "titles = ['Intercept %',\"Asthma %\",\"Cancer Diagnosis since 2003 %\",\"Diabetes %\",\n",
    "        \"Learning Disabilities %\",\"Obesity %\", \"Depression %\"]\n",
    "\n",
    "# Here, we are creating loop for our parameter estimates \n",
    "for i,row in enumerate(filtered_estimates_95.T):\n",
    "    # We want to plot all the non-significant estimates in grey\n",
    "    gdf_non_sig = gdf_par_merge.assign(toplot=filtered_estimates_95.T[i])\n",
    "    (gdf_non_sig.query('toplot==0')\n",
    "     .sort_values('toplot')\n",
    "     .plot(color='grey',ax=ax[i],alpha=.2))\n",
    "    # and assign colours only to the significant estimates\n",
    "    (gdf_non_sig.query('toplot!=0')\n",
    "     .sort_values('toplot')\n",
    "     .plot('toplot',\n",
    "           cmap='Blues',\n",
    "           ax=ax[i],\n",
    "           legend=True))\n",
    "    \n",
    "    ax[i].set_title(titles[i], fontsize=10)\n",
    "    \n",
    "    ax[i].set_xticklabels([])\n",
    "    ax[i].set_yticklabels([])\n",
    "    ax[i].set_xticks([])\n",
    "    ax[i].set_yticks([])\n",
    " \n",
    "#For the last one, local R2, we can just map all of them regarding the significance\n",
    "\n",
    "(gdf_par_merge.assign(r2=results.localR2)\n",
    " .sort_values('r2')\n",
    " .plot('r2',\n",
    "       ax=ax[-1],\n",
    "       legend=True,\n",
    "       \n",
    "       cmap='Blues'))\n",
    "    \n",
    "ax[-1].set_xticklabels([])\n",
    "ax[-1].set_yticklabels([])\n",
    "ax[-1].set_xticks([])\n",
    "ax[-1].set_yticks([])\n",
    "    \n",
    "ax[-1].set_title('Local R2', fontsize=10\n",
    "                )\n",
    "\n",
    "    "
   ]
  },
  {
   "cell_type": "code",
   "execution_count": null,
   "id": "f88a4258-8d6d-499e-9b3c-c231fad54519",
   "metadata": {},
   "outputs": [],
   "source": [
    "gdf_par_2[gdf.isnull().any(axis=1)]"
   ]
  },
  {
   "cell_type": "code",
   "execution_count": null,
   "id": "f1c26cd2-90fc-48cd-af6d-5b36fb03d526",
   "metadata": {},
   "outputs": [],
   "source": [
    "gwr_selector = Sel_BW(g_coords, g_y, g_X)\n",
    "gwr_bw = gwr_selector.search(bw_min=2)\n",
    "print(gwr_bw)\n",
    "gwr_results = GWR(g_coords, g_y, g_X, gwr_bw).fit()\n"
   ]
  },
  {
   "cell_type": "code",
   "execution_count": null,
   "id": "a2721402-c2ca-4e3c-8390-69121be526a0",
   "metadata": {},
   "outputs": [],
   "source": [
    "mgwr_selector = Sel_BW(g_coords, g_y, g_X, multi=True)\n",
    "mgwr_bw = mgwr_selector.search(multi_bw_min=[2])\n",
    "print(mgwr_bw)\n",
    "mgwr_results = MGWR(g_coords, g_y, g_X, mgwr_selector).fit()"
   ]
  },
  {
   "cell_type": "code",
   "execution_count": null,
   "id": "8e1ef8dc-720a-4b2a-9b7f-078668a4aa6d",
   "metadata": {},
   "outputs": [],
   "source": [
    "# show gwr results here\n",
    "gwr_results.summary()"
   ]
  },
  {
   "cell_type": "code",
   "execution_count": null,
   "id": "76300afd-3f94-49e7-ab23-63e205661488",
   "metadata": {},
   "outputs": [],
   "source": [
    "mgwr_results.summary()"
   ]
  },
  {
   "cell_type": "code",
   "execution_count": null,
   "id": "d01d361f-58f2-4a16-90cc-32fa6acc6966",
   "metadata": {},
   "outputs": [],
   "source": [
    "gdf['gwr_intercept'] = gwr_results.params[:,0]\n",
    "gdf['gwr_Asthma'] = gwr_results.params[:,1]\n",
    "gdf['gwr_Cancer_diagnosis_since_2003'] = gwr_results.params[:,2]\n",
    "gdf['gwr_Diabetes'] = gwr_results.params[:,3]\n",
    "gdf['gwr_Learning_Disabilities'] = gwr_results.params[:,4]\n",
    "gdf['gwr_Obesity'] = gwr_results.params[:,5]\n",
    "gdf['gwr_Depression'] = gwr_results.params[:,6]"
   ]
  },
  {
   "cell_type": "code",
   "execution_count": null,
   "id": "a6b25a94-3b58-49af-97ca-9dbf566f3e2b",
   "metadata": {},
   "outputs": [],
   "source": [
    "df2_map_shape['mgwr_intercept'] = mgwr_results.params[:,0]\n",
    "df2_map_shape['mgwr_med_income'] = mgwr_results.params[:,1]\n",
    "df2_map_shape['gwr_med_rent'] = gwr_results.params[:,2]\n",
    "df2_map_shape['mgwr_totalSS_arrest'] = mgwr_results.params[:,3]\n"
   ]
  },
  {
   "cell_type": "code",
   "execution_count": null,
   "id": "02fb63a1-b470-4afe-9fc1-979b47eb9312",
   "metadata": {},
   "outputs": [],
   "source": [
    "Local authority name (2020)', 'Jan_2021_to_Dec_2021', 'Asthma',\n",
    "       'Cancer_diagnosis_since_2003', 'Diabetes', 'Learning_disabilities',\n",
    "       'Obesity', 'Depression'],\n",
    "      dtype='object"
   ]
  },
  {
   "cell_type": "code",
   "execution_count": null,
   "id": "dafca374-cca5-4a0e-9907-b8eef8541d7e",
   "metadata": {},
   "outputs": [],
   "source": []
  },
  {
   "cell_type": "code",
   "execution_count": null,
   "id": "89545b53-344d-4210-b39a-f0ba2163070c",
   "metadata": {},
   "outputs": [],
   "source": []
  },
  {
   "cell_type": "code",
   "execution_count": null,
   "id": "71e67a82-a0c1-43ef-b7e7-9a678b11e217",
   "metadata": {},
   "outputs": [],
   "source": []
  },
  {
   "cell_type": "code",
   "execution_count": null,
   "id": "33f2677e-6c22-498f-acf4-2bcca58c5874",
   "metadata": {},
   "outputs": [],
   "source": []
  },
  {
   "cell_type": "code",
   "execution_count": null,
   "id": "0da0153f-dab7-4e1d-969d-3fdd92a75710",
   "metadata": {},
   "outputs": [],
   "source": []
  },
  {
   "cell_type": "code",
   "execution_count": null,
   "id": "c5228b67-01a6-49be-a3f0-f0341332004d",
   "metadata": {},
   "outputs": [],
   "source": []
  },
  {
   "cell_type": "code",
   "execution_count": null,
   "id": "d53eb8ce-8865-4557-9185-cbc5c1aabe68",
   "metadata": {},
   "outputs": [],
   "source": []
  },
  {
   "cell_type": "code",
   "execution_count": null,
   "id": "fcc446c0-b06a-47f2-838e-066b3e5f801f",
   "metadata": {},
   "outputs": [],
   "source": []
  },
  {
   "cell_type": "code",
   "execution_count": null,
   "id": "cee3db6c-9653-473c-a206-1a7f9471e293",
   "metadata": {},
   "outputs": [],
   "source": []
  },
  {
   "cell_type": "code",
   "execution_count": null,
   "id": "1dcef446-2a93-41a5-8b84-fa8d755a85d6",
   "metadata": {},
   "outputs": [],
   "source": []
  },
  {
   "cell_type": "code",
   "execution_count": null,
   "id": "5ecd98d0-9909-475e-9130-7bb0ea5d6542",
   "metadata": {},
   "outputs": [],
   "source": []
  },
  {
   "cell_type": "code",
   "execution_count": null,
   "id": "fc365b3a-8afb-4bd4-adab-c4afc157d3f5",
   "metadata": {},
   "outputs": [],
   "source": []
  },
  {
   "cell_type": "code",
   "execution_count": null,
   "id": "7e7d8962-05ef-4bfc-910b-ae81cd3de673",
   "metadata": {},
   "outputs": [],
   "source": []
  },
  {
   "cell_type": "code",
   "execution_count": null,
   "id": "f7687220-fc95-4cd3-acfd-df36d2b77b64",
   "metadata": {},
   "outputs": [],
   "source": []
  },
  {
   "cell_type": "code",
   "execution_count": null,
   "id": "8039214f-53df-46f7-ae25-7e09348c4a48",
   "metadata": {},
   "outputs": [],
   "source": []
  },
  {
   "cell_type": "code",
   "execution_count": null,
   "id": "acfa9e17-e5e6-4a8b-ba10-7f3cbb6e3cda",
   "metadata": {},
   "outputs": [],
   "source": []
  },
  {
   "cell_type": "code",
   "execution_count": null,
   "id": "e812dd5e-2e91-48a1-a842-542d7f33f638",
   "metadata": {},
   "outputs": [],
   "source": []
  },
  {
   "cell_type": "code",
   "execution_count": null,
   "id": "fe6f4af3-f9de-4375-b134-6c7d8e55567a",
   "metadata": {},
   "outputs": [],
   "source": []
  }
 ],
 "metadata": {
  "kernelspec": {
   "display_name": "Python 3 (ipykernel)",
   "language": "python",
   "name": "python3"
  },
  "language_info": {
   "codemirror_mode": {
    "name": "ipython",
    "version": 3
   },
   "file_extension": ".py",
   "mimetype": "text/x-python",
   "name": "python",
   "nbconvert_exporter": "python",
   "pygments_lexer": "ipython3",
   "version": "3.9.12"
  }
 },
 "nbformat": 4,
 "nbformat_minor": 5
}
